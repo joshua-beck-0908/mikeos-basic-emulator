{
 "cells": [
  {
   "cell_type": "markdown",
   "metadata": {},
   "source": [
    "# Still Todo\n",
    "- PAGE\n",
    "    - Will require reworking of the backend.\n",
    "- SERIAL\n",
    "    - Command exists but with no backend (uses a dummy interface).\n",
    "    - Needs to somehow interface with a host serial port?\n",
    "    - Not sure of the best way to do this.\n",
    "    - Probably needs to be set via a command line argument.\n",
    "\n",
    "\n",
    "# Won't Implement\n",
    " - CALL\n",
    "     - Can't be done since this is not a full x86 emulator.\n",
    "     - This is currently a stub which returns an error.\n",
    "     - There are some Python x86 emulators that could be used to implement this.\n",
    "        - Probably not useful.\n",
    "        - Usually CALL is make to call a BIOS function or lower level stuff.\n",
    "        - This is typically not supported by the \"pure\" emulators.\n",
    "- PORT\n",
    "    - Can't be done for the same reason as CALL.\n",
    "   \n"
   ]
  }
 ],
 "metadata": {
  "language_info": {
   "name": "python"
  }
 },
 "nbformat": 4,
 "nbformat_minor": 2
}
