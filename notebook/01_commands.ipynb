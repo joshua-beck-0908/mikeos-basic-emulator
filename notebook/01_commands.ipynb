{
 "cells": [
  {
   "cell_type": "markdown",
   "metadata": {},
   "source": [
    "# Still Todo\n",
    "- PAGE\n",
    "    - Will require reworking of the backend.\n",
    "- PAUSE\n",
    "    - Should be fairly easy to implement.\n",
    "    - Need to make sure to keep the thread responsive.\n",
    "- PEEK\n",
    "    - Should be fairly easy to implement.\n",
    "- POKE\n",
    "    - Should be fairly easy to implement.\n",
    "- PORT\n",
    "    - Can't be done for the same reason as CALL.\n",
    "    - Maybe it could work in a limited capacity.\n",
    "- RAND\n",
    "    - Should be fairly easy to implement.\n",
    "    - Does the algorithm need to be the same?\n",
    "- READ\n",
    "    - Creates some interesting control flow issues.\n",
    "    - Probably not a major hurdle.\n",
    "- SERIAL\n",
    "    - Needs to somehow interface with a host serial port?\n",
    "    - Not sure of the best way to do this.\n",
    "    - Probably needs to be set via a command line argument.\n",
    "- SOUND\n",
    "    - Not sure how to implement this in a cross platform way.\n",
    "    - It can be done with Pygame.\n",
    "        - Going though a display backend is probably not the best way.\n",
    "    - simpleaudio is another option.\n",
    "        - Their API looks pretty good.\n",
    "\n",
    "\n",
    "# Won't Implement\n",
    " - CALL\n",
    "     - Can't be done since this is not a full x86 emulator.\n",
    "     - This is currently a stub which returns an error.\n",
    "     - There are some Python x86 emulators that could be used to implement this.\n",
    "        - Probably not useful.\n",
    "        - Usually CALL is make to call a BIOS function or lower level stuff.\n",
    "        - This is typically not supported by the \"pure\" emulators.\n",
    "   \n"
   ]
  }
 ],
 "metadata": {
  "language_info": {
   "name": "python"
  }
 },
 "nbformat": 4,
 "nbformat_minor": 2
}
