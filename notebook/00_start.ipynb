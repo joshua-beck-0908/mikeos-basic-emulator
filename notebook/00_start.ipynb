{
 "cells": [
  {
   "cell_type": "markdown",
   "metadata": {},
   "source": [
    "<style> p { max-width: 500px; } </style>\n",
    "\n",
    "# MikeOS BASIC Emulator\n",
    "\n",
    "I'd like to be able to emulate the BASIC interpreter of MikeOS, a simple operating system for x86 PCs.\n",
    "\n",
    "It'll be a good way to test programs.\n",
    "\n",
    "And everything will be compatible with modern operating systems.\n",
    "\n",
    "## Specifications\n",
    "This isn't going to be a full x86 enumerator, but a simple interpreter for the BASIC language of MikeOS.\n",
    "\n",
    "No BIOS and no executable code.\n",
    "\n",
    "Perhaps all the operating system specific quirks will be ignored.\n",
    "\n",
    "They'll be difficult to implement and the immediate focus is getting it working.\n",
    "\n",
    "## Memory\n",
    "I'll do a byte array in memory that the program will use.\n",
    "\n",
    "Just enough for the segment of the program, kernel space will be blank.\n",
    "\n",
    "## Display\n",
    "Can't seem to find a libary for this.\n",
    "\n",
    "NCurses sounds like it'll introduce to many weird quirks.\n",
    "\n",
    "Pygame maybe?\n",
    "\n",
    "\n"
   ]
  }
 ],
 "metadata": {
  "kernelspec": {
   "display_name": ".venv",
   "language": "python",
   "name": "python3"
  },
  "language_info": {
   "name": "python",
   "version": "3.12.3"
  }
 },
 "nbformat": 4,
 "nbformat_minor": 2
}
